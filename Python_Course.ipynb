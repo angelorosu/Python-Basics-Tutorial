{
 "cells": [
  {
   "cell_type": "markdown",
   "metadata": {},
   "source": [
    "# Logical Operators\n"
   ]
  },
  {
   "cell_type": "code",
   "execution_count": null,
   "metadata": {},
   "outputs": [],
   "source": [
    "temp = int(input(\"What is the temp outside\"))\n",
    "\n",
    "if temp>=0 and temp <= 30:\n",
    "    print(\"Temperature is good today\")\n",
    "    print(\"outside\")\n",
    "\n",
    "elif temp < 0 or temp > 30:\n",
    "    print(\"The temperature is bad today\")\n",
    "    print(\"stay inside\")"
   ]
  },
  {
   "cell_type": "markdown",
   "metadata": {},
   "source": [
    "# Break Continue Pass"
   ]
  },
  {
   "cell_type": "code",
   "execution_count": null,
   "metadata": {},
   "outputs": [],
   "source": [
    "# while True:\n",
    "#     name = input(\"Enter name\")\n",
    "#     if name != \"\":\n",
    "#         break\n",
    "\n",
    "\n",
    "# phone_number = \"123-456-7890\"\n",
    "# for i in phone_number:\n",
    "#     if i == \"-\":\n",
    "#         continue\n",
    "#     print(i,end=\"\")\n",
    "\n",
    "for i in range(1,21):\n",
    "    if i == 0:\n",
    "        pass\n",
    "    else:\n",
    "        print(i)"
   ]
  },
  {
   "cell_type": "markdown",
   "metadata": {},
   "source": [
    "# 2D Lists\n",
    "#### list of lists"
   ]
  },
  {
   "cell_type": "code",
   "execution_count": null,
   "metadata": {},
   "outputs": [],
   "source": [
    "drinks =[\"coffee\",\"soda\",\"tea\"]\n",
    "dinner = [\"pizza\",\"hamburger\",\"hotdog\"]\n",
    "dessert = [\"cake\",\"icecream\"]\n",
    "\n",
    "food = [drinks,dinner,dessert]\n",
    "print(food)"
   ]
  },
  {
   "cell_type": "markdown",
   "metadata": {},
   "source": [
    "# Tuples \n",
    "#### Collection which is ordered adn unchangeable\n",
    "#### Used to group together related data"
   ]
  },
  {
   "cell_type": "code",
   "execution_count": null,
   "metadata": {},
   "outputs": [],
   "source": [
    "student = (\"Bro\",21,\"male\")\n",
    "\n",
    "print(student.count(\"Bro\"))\n",
    "student.index(\"male\")\n",
    "\n",
    "\n",
    "for x in student:\n",
    "    print(x)\n",
    "\n",
    "if \"Bro\" in student:\n",
    "    print('Bro is here')"
   ]
  },
  {
   "cell_type": "markdown",
   "metadata": {},
   "source": [
    "# Sets\n",
    "#### collection which is unordered, unindexed. no duplicate values"
   ]
  },
  {
   "cell_type": "code",
   "execution_count": null,
   "metadata": {},
   "outputs": [],
   "source": [
    "utensils = {\"fork\",\"spoon\", \"knife\",}\n",
    "\n",
    "\n",
    "\n",
    "for x in utensils:\n",
    "    print(x)"
   ]
  },
  {
   "cell_type": "code",
   "execution_count": null,
   "metadata": {},
   "outputs": [],
   "source": [
    "dishes = {\"bowl\",\"plate\",\"cup\",}\n",
    "#dishes.update(utensils)\n",
    "\n",
    "dinner_table = utensils.union(dishes)\n",
    "\n",
    "for x in dinner_table:\n",
    "    print(x)"
   ]
  },
  {
   "cell_type": "code",
   "execution_count": null,
   "metadata": {},
   "outputs": [],
   "source": [
    "print(utensils.difference(dishes))\n",
    "print(dishes.difference(utensils))\n",
    "print(utensils.intersection(dishes))"
   ]
  },
  {
   "cell_type": "markdown",
   "metadata": {},
   "source": [
    "# Dictionaries \n",
    "#### Changeable, unorederd collection of unique key: values pairs\n",
    "#### Fast because they use hashing,allows us to acces a value quickly "
   ]
  },
  {
   "cell_type": "code",
   "execution_count": null,
   "metadata": {},
   "outputs": [],
   "source": [
    "capitals = {'USA':'Washington DC',\n",
    "            'India':'New Dehli',\n",
    "            'China':'Beijing',\n",
    "            'Russia': 'Moscow'}\n",
    "\n",
    "capitals.update({'Germany':'Berlin'})\n",
    "capitals.update({'USA':'Las Vegas'})\n",
    "capitals.pop('China')\n",
    "#capitals.clear()  clears everything\n",
    "\n",
    "#print(capitals['Germany'])\n",
    "print(capitals.get('Russia'))\n",
    "\n",
    "print(capitals.keys())\n",
    "\n",
    "print(capitals.values())\n",
    "\n",
    "print(capitals.items())\n",
    "\n",
    "\n",
    "for key,value in capitals.items():\n",
    "    print(key,value)"
   ]
  },
  {
   "cell_type": "markdown",
   "metadata": {},
   "source": [
    "# Indexing\n",
    "#### Gives acces to a sequence's elements (Str,list,tup)"
   ]
  },
  {
   "cell_type": "code",
   "execution_count": null,
   "metadata": {},
   "outputs": [],
   "source": [
    "name = \"bro Code!\"\n",
    "\n",
    "if(name[0].islower()):\n",
    "    name = name.capitalize()\n",
    "\n",
    "print(name)\n"
   ]
  },
  {
   "cell_type": "code",
   "execution_count": null,
   "metadata": {},
   "outputs": [],
   "source": [
    "first_name = name[:3].upper()\n",
    "last_name = name[4:].lower()\n",
    "last_character = name[-1]\n",
    "print(first_name)\n",
    "print(last_name)\n",
    "print(last_character)"
   ]
  },
  {
   "cell_type": "markdown",
   "metadata": {},
   "source": [
    "# Functions\n",
    "#### Block of code which executed only when it is called\n"
   ]
  },
  {
   "cell_type": "code",
   "execution_count": null,
   "metadata": {},
   "outputs": [],
   "source": [
    "def hello(name):\n",
    "    print(\"Hello \"+name)\n",
    "\n",
    "hello(\"Angelo\")\n"
   ]
  },
  {
   "cell_type": "markdown",
   "metadata": {},
   "source": [
    "# Keyword Arguments\n",
    "#### arguments preceded by an identifire when we pass them to a function, the order does't matter"
   ]
  },
  {
   "cell_type": "code",
   "execution_count": null,
   "metadata": {},
   "outputs": [],
   "source": [
    "def hello(first,middle,last):\n",
    "    print(\"Hello \"+first+middle+last )\n",
    "\n",
    "hello(last = \"code\",middle = \"dude\",first= \"bro\")\n"
   ]
  },
  {
   "cell_type": "markdown",
   "metadata": {},
   "source": [
    "# Nested Function Calls\n",
    "#### function calls inside other functions"
   ]
  },
  {
   "cell_type": "code",
   "execution_count": null,
   "metadata": {},
   "outputs": [],
   "source": [
    "# num = input(\"Enter a whole pos number: \")\n",
    "# num = float(num)\n",
    "# num= abs(num)\n",
    "# num = round(num)\n",
    "# print(num)        \n",
    "\n"
   ]
  },
  {
   "cell_type": "code",
   "execution_count": null,
   "metadata": {},
   "outputs": [],
   "source": [
    "(round(abs(float(input(\"Enter a whole pos number: \")))))\n",
    "\n"
   ]
  },
  {
   "cell_type": "markdown",
   "metadata": {},
   "source": [
    "# Variable Scope\n",
    "region that a variable is recognied,\n",
    "variable is only available inseide region is created"
   ]
  },
  {
   "cell_type": "code",
   "execution_count": null,
   "metadata": {},
   "outputs": [],
   "source": [
    "name = \"Bro\"\n",
    "def display_name():\n",
    "    #name = \"Code\"\n",
    "    print(name)\n",
    "\n",
    "display_name()          \n",
    "print(name)\n"
   ]
  },
  {
   "cell_type": "markdown",
   "metadata": {},
   "source": [
    "# Args"
   ]
  },
  {
   "cell_type": "markdown",
   "metadata": {},
   "source": [
    "Parameter that will pack all arguments into a tuple\n"
   ]
  },
  {
   "cell_type": "markdown",
   "metadata": {},
   "source": [
    "Useful so that a fucntion can accept varying amount of arguments"
   ]
  },
  {
   "cell_type": "code",
   "execution_count": null,
   "metadata": {},
   "outputs": [],
   "source": [
    "def add(*stuff):\n",
    "    sum = 0\n",
    "    stuff = list(stuff)\n",
    "    stuff[0] = 0\n",
    "    for i in stuff:\n",
    "        sum += i\n",
    "    return sum\n",
    "\n",
    "print(add(1,2,3,4,5,6))"
   ]
  },
  {
   "cell_type": "markdown",
   "metadata": {},
   "source": [
    "# Kwargs"
   ]
  },
  {
   "cell_type": "markdown",
   "metadata": {},
   "source": [
    "identical to args but it will accept varying amount of keywords and pack them into dictionary"
   ]
  },
  {
   "cell_type": "code",
   "execution_count": null,
   "metadata": {},
   "outputs": [],
   "source": [
    "def hello(**kwargs):\n",
    "    #print(\"Hello \" + kwargs['first'] + \" \"+ kwargs['last'])\n",
    "    print(\"Hello\",end=\" \")\n",
    "    for key,value in kwargs.items():\n",
    "        print(value, end=\" \")\n",
    "\n",
    "hello(title = \"Mr\" ,first = \"Bro\", middle = \"Dude\", last = \"Code\",)"
   ]
  },
  {
   "cell_type": "markdown",
   "metadata": {},
   "source": [
    "# String Format\n"
   ]
  },
  {
   "cell_type": "markdown",
   "metadata": {},
   "source": [
    "method to give users more control when displaying output "
   ]
  },
  {
   "cell_type": "code",
   "execution_count": null,
   "metadata": {},
   "outputs": [],
   "source": [
    "number = 1000\n",
    "animal = \"cow\"\n",
    "item = \"moon\"\n",
    "#print(\"The \" + animal+ \" jumped over the \" + item)\n",
    "#print(\"The {0} jumped over the {1}\".format(item,animal)) # positional argument\n",
    "#print(\"The {animal} jumped over the {item}\".format(animal = \"cow\",item = \"moon\")) #keyword argument\n",
    "\n",
    "text = \"The {} jumped over the {}\"\n",
    "print(text.format(animal,item))"
   ]
  },
  {
   "cell_type": "code",
   "execution_count": null,
   "metadata": {},
   "outputs": [],
   "source": [
    "name = \"Angelo\"\n",
    "\n",
    "print(\"Hello my name is {}\".format(name))\n",
    "print(\"Hello my name is {:10}\".format(name))\n",
    "print(\"Hello my name is {:<10}\".format(name))\n",
    "print(\"Hello my name is {:>10}\".format(name))\n",
    "print(\"Hello my name is {:^10}\".format(name))"
   ]
  },
  {
   "cell_type": "code",
   "execution_count": null,
   "metadata": {},
   "outputs": [],
   "source": [
    "number = 1000\n",
    "\n",
    "print(\"The number pi is {:.5f}\".format(number))\n",
    "print(\"The number pi is {:,}\".format(number))\n",
    "print(\"The number pi is {:b}\".format(number))\n",
    "print(\"The number pi is {:o}\".format(number))\n",
    "print(\"The number pi is {:X}\".format(number))\n",
    "print(\"The number pi is {:e}\".format(number))"
   ]
  },
  {
   "cell_type": "markdown",
   "metadata": {},
   "source": [
    "# Random Numbers"
   ]
  },
  {
   "cell_type": "code",
   "execution_count": null,
   "metadata": {},
   "outputs": [],
   "source": [
    "import random \n",
    "\n",
    "x= random.randint(1,6)\n",
    "y = random.random()\n",
    "\n",
    "myList = ['rock','paper','scissors']\n",
    "z= random.choice(myList)\n",
    "\n",
    "\n",
    "cards = [1,2,3,4,5,6,7,8,9,\"J\",\"Q\",\"K\",\"A\"]\n",
    "random.shuffle(cards)\n",
    "print(cards)\n"
   ]
  },
  {
   "cell_type": "markdown",
   "metadata": {},
   "source": [
    "# Exception Handling"
   ]
  },
  {
   "cell_type": "markdown",
   "metadata": {},
   "source": [
    "Events detected during execution that interruot flow of a program\n"
   ]
  },
  {
   "cell_type": "code",
   "execution_count": null,
   "metadata": {},
   "outputs": [],
   "source": [
    "try:\n",
    "    numerator = int(input(\"Enter a number to divide: \"))\n",
    "    denominator = int(input(\"Enter a number to divide by: \"))\n",
    "    result = numerator/denominator\n",
    "   \n",
    "\n",
    "except ZeroDivisionError as e:\n",
    "    print(e)\n",
    "    print(\"You can't divied by zero idiot!\")\n",
    "\n",
    "except ValueError as e:\n",
    "    print(e)\n",
    "    print(\"Enter numbers please!\")\n",
    "\n",
    "except Exception as e:\n",
    "    print(e)\n",
    "    print(\"Something went wrong\")\n",
    "\n",
    "else:\n",
    "     print(result)\n",
    "\n",
    "finally:\n",
    "    print(\"this will always execute\")"
   ]
  },
  {
   "cell_type": "markdown",
   "metadata": {},
   "source": [
    "# File Detection"
   ]
  },
  {
   "cell_type": "code",
   "execution_count": null,
   "metadata": {},
   "outputs": [],
   "source": [
    "import os \n",
    "\n",
    "path = \"/Users/angelor/Desktop/TestFolder/test.rtf\"\n",
    "path1 = \"/Users/angelor/Desktop/TestFolder\"\n",
    "\n",
    "if os.path.exists(path1):\n",
    "    print(\"That location exists\")\n",
    "    if os.path.isfile(path1):\n",
    "        print(\"That is a file\")\n",
    "\n",
    "    elif os.path.isdir(path1):\n",
    "        print(\"that is a directory\")\n",
    "else:\n",
    "    print(\"that location doesnt exist\")\n"
   ]
  },
  {
   "cell_type": "markdown",
   "metadata": {},
   "source": [
    "# Reading a File"
   ]
  },
  {
   "cell_type": "code",
   "execution_count": null,
   "metadata": {},
   "outputs": [],
   "source": [
    "try:\n",
    "    with open('test.txt') as file:\n",
    "        print(file.read())\n",
    "\n",
    "except FileNotFoundError:\n",
    "    print(\"File not found\")"
   ]
  },
  {
   "cell_type": "markdown",
   "metadata": {},
   "source": [
    "# Writing a file"
   ]
  },
  {
   "cell_type": "code",
   "execution_count": null,
   "metadata": {},
   "outputs": [],
   "source": [
    "text = \"\\nhave a nice day , seea\"\n",
    "with open('test.txt','a') as file:\n",
    "    file.write(text)\n",
    "    "
   ]
  },
  {
   "cell_type": "markdown",
   "metadata": {},
   "source": [
    "# Copy a file"
   ]
  },
  {
   "cell_type": "code",
   "execution_count": null,
   "metadata": {},
   "outputs": [],
   "source": [
    "#copy()\n",
    "#copy2()\n",
    "import shutil\n",
    "\n",
    "shutil.copyfile('test.txt','copy.txt') #source,destination\n"
   ]
  },
  {
   "cell_type": "markdown",
   "metadata": {},
   "source": [
    "# Move file"
   ]
  },
  {
   "cell_type": "code",
   "execution_count": null,
   "metadata": {},
   "outputs": [],
   "source": [
    "import os \n",
    "\n",
    "source = \"copy.txt\"\n",
    "destination = \"/Users/angelor/Desktop/TestFolder/test.txt\"\n",
    "\n",
    "try: \n",
    "    if os.path.exists(destination):\n",
    "        print(\"already a file there\")\n",
    "    else:\n",
    "        os.replace(source,destination)\n",
    "        print(source + \"was moved\")\n",
    "except FileNotFoundError:\n",
    "    print(source + \"not found\")"
   ]
  },
  {
   "cell_type": "markdown",
   "metadata": {},
   "source": [
    "# Delete a file"
   ]
  },
  {
   "cell_type": "code",
   "execution_count": null,
   "metadata": {},
   "outputs": [],
   "source": [
    "os.rmdir(path) -> remove directory\n",
    "os.remove(path) -> remove file\n",
    "shutil.rmtree -> (folder filled with files)"
   ]
  },
  {
   "cell_type": "code",
   "execution_count": null,
   "metadata": {},
   "outputs": [],
   "source": [
    "import os\n",
    "import shutil\n",
    "\n",
    "path = 'empty_folder'\n",
    "\n",
    "try:\n",
    "    os.rmdir(path)\n",
    "except FileNotFoundError:\n",
    "    print(\"File not found\")\n",
    "\n",
    "except PermissionError:\n",
    "    print(\"no permisiion\")"
   ]
  },
  {
   "cell_type": "markdown",
   "metadata": {},
   "source": [
    "# Modules\n"
   ]
  },
  {
   "cell_type": "code",
   "execution_count": null,
   "metadata": {},
   "outputs": [],
   "source": [
    "from messages import hello,bye\n",
    "\n",
    "hello()\n",
    "bye()"
   ]
  },
  {
   "cell_type": "code",
   "execution_count": null,
   "metadata": {},
   "outputs": [],
   "source": [
    "import messages as msg\n",
    "\n",
    "msg.hello()\n",
    "msg.bye"
   ]
  },
  {
   "cell_type": "markdown",
   "metadata": {},
   "source": [
    "# Rock, Paper Scissors "
   ]
  },
  {
   "cell_type": "code",
   "execution_count": null,
   "metadata": {},
   "outputs": [],
   "source": [
    "import random\n",
    "\n",
    "choices = [\"rock\",\"paper\",\"scissors\"]\n",
    "computer = random.choice(choices)\n",
    "\n",
    "player = None\n",
    "\n",
    "while player not in choices:\n",
    "    player = input (\"rock, paper or scissors\").lower()\n",
    "\n",
    "\n",
    "if player == computer:\n",
    "    print(\"player: \",player)\n",
    "    print(\"computer: \", computer)\n",
    "    print(\"TIE\")\n",
    "elif player == \"rock\":\n",
    "    if computer == \"paper\":\n",
    "        print(\"player: \",player)\n",
    "        print(\"computer: \", computer)\n",
    "        print(\"You lose\")\n",
    "\n",
    "    if computer == \"paper\":\n",
    "        print(\"player: \",player)\n",
    "        print(\"computer: \", computer)\n",
    "        print(\"You win\")\n",
    "        \n",
    "elif player == \"scissors\":\n",
    "    if computer == \"rock\":\n",
    "        print(\"player: \",player)\n",
    "        print(\"computer: \", computer)\n",
    "        print(\"You lose\")\n",
    "\n",
    "    if computer == \"paper\":\n",
    "        print(\"player: \",player)\n",
    "        print(\"computer: \", computer)\n",
    "        print(\"You win\")\n",
    "\n",
    "elif player == \"paper\":\n",
    "    if computer == \"rock\":\n",
    "        print(\"player: \",player)\n",
    "        print(\"computer: \", computer)\n",
    "        print(\"You win\")\n",
    "\n",
    "    if computer == \"scissors\":\n",
    "        print(\"player: \",player)\n",
    "        print(\"computer: \", computer)\n",
    "        print(\"You lose\")\n",
    "\n",
    "\n",
    "\n"
   ]
  },
  {
   "cell_type": "markdown",
   "metadata": {},
   "source": [
    "# Quiz Game"
   ]
  },
  {
   "cell_type": "code",
   "execution_count": null,
   "metadata": {},
   "outputs": [],
   "source": [
    "def new_game():\n",
    "    pass\n",
    "\n",
    "def check_answer():\n",
    "    pass\n",
    "\n",
    "def display_score():\n",
    "    pass\n",
    "\n",
    "def play_again():\n",
    "    pass\n",
    "\n",
    "questions = {\n",
    "    \"Who creeated python?: \": \"A\",\n",
    "    \"What year pytgon created? \": \"B\",\n",
    "    \n",
    "\n",
    "\n",
    "\n",
    "\n",
    "\n",
    "}"
   ]
  },
  {
   "cell_type": "markdown",
   "metadata": {},
   "source": [
    "# Object Oriented Programming"
   ]
  },
  {
   "cell_type": "markdown",
   "metadata": {},
   "source": [
    "Blueprint to create objects"
   ]
  },
  {
   "cell_type": "code",
   "execution_count": null,
   "metadata": {},
   "outputs": [],
   "source": [
    "class Car:\n",
    "\n",
    "    def __init__(self,make,model,year,color):\n",
    "        self.make = make\n",
    "        self.model = model\n",
    "        self.year = year\n",
    "        self.color = color #constructor\n",
    "\n",
    "    def drive(self):\n",
    "        print(\"This \" +self.model +\"is driving\")\n",
    "\n",
    "    def stop(self):\n",
    "        print(\"This \" +self.model+\" car is stopped\")\n",
    "\n",
    "\n",
    "\n",
    "car_1 = Car(\"Chevy\",\"Corvette\",2021,\"blue\")\n",
    "\n",
    "print(car_1.make)\n",
    "print(car_1.model)\n",
    "print(car_1.year)\n",
    "print(car_1.color)\n",
    "\n",
    "car_1.drive()\n",
    "car_1.stop()\n",
    "\n"
   ]
  },
  {
   "cell_type": "code",
   "execution_count": null,
   "metadata": {},
   "outputs": [],
   "source": [
    "car_2 = Car(\"Ford\",\"Mustang\",2022,\"red\")\n",
    "\n",
    "print(car_2.make)\n",
    "print(car_2.model)\n",
    "print(car_2.year)\n",
    "print(car_2.color)\n",
    "\n",
    "car_2.drive()\n",
    "car_2.stop()"
   ]
  },
  {
   "cell_type": "markdown",
   "metadata": {},
   "source": [
    "# Class Variables"
   ]
  },
  {
   "cell_type": "code",
   "execution_count": 26,
   "metadata": {},
   "outputs": [
    {
     "name": "stdout",
     "output_type": "stream",
     "text": [
      "2\n"
     ]
    }
   ],
   "source": [
    "class Car:\n",
    "\n",
    "    wheels = 4 \n",
    "\n",
    "    def __init__(self,make,model,year,color):\n",
    "        self.make = make\n",
    "        self.model = model\n",
    "        self.year = year\n",
    "        self.color = color #constructor\n",
    "Car.wheels = 2\n",
    "\n",
    "#car_1 = Car(\"Chevy\",\"Corvette\",2021,\"blue\")\n",
    "#car_2 = Car(\"Ford\",\"Mustang\",2022,\"red\")\n",
    "\n",
    "#car_1.wheels = 2 \n",
    "\n",
    "print(Car.wheels)\n",
    "\n"
   ]
  },
  {
   "cell_type": "markdown",
   "metadata": {},
   "source": [
    "# Inheritance"
   ]
  },
  {
   "cell_type": "code",
   "execution_count": 33,
   "metadata": {},
   "outputs": [
    {
     "name": "stdout",
     "output_type": "stream",
     "text": [
      "this rabbit is runnign\n",
      "None\n",
      "this hawk is flying\n",
      "None\n",
      "this fish is swimming\n",
      "None\n"
     ]
    }
   ],
   "source": [
    "class Animal: \n",
    "\n",
    "    alive = True\n",
    "\n",
    "    def eat(self):\n",
    "        print(\"this animal is eating\")\n",
    "\n",
    "    def sleep(self):\n",
    "        print(\"this animal is sleeping\")\n",
    "\n",
    "\n",
    "class Rabbit(Animal):\n",
    "    def run(self):\n",
    "        print(\"this rabbit is runnign\")\n",
    "\n",
    "class Fish(Animal):\n",
    "    def swim(self):\n",
    "        print(\"this fish is swimming\")\n",
    "\n",
    "class Hawk(Animal):\n",
    "    def fly(self):\n",
    "        print(\"this hawk is flying\")\n",
    "\n",
    "rabbit = Rabbit()\n",
    "fish = Fish()\n",
    "hawk = Hawk()\n",
    "\n",
    "print(rabbit.run())\n",
    "print(hawk.fly())\n",
    "print(fish.swim())"
   ]
  },
  {
   "cell_type": "code",
   "execution_count": null,
   "metadata": {},
   "outputs": [],
   "source": []
  },
  {
   "cell_type": "markdown",
   "metadata": {},
   "source": [
    "# Multi-level Inheritance"
   ]
  },
  {
   "cell_type": "markdown",
   "metadata": {},
   "source": [
    "derived child calass inherits another derived child class"
   ]
  },
  {
   "cell_type": "code",
   "execution_count": 35,
   "metadata": {},
   "outputs": [],
   "source": [
    "class Organism:\n",
    "    alive = True\n",
    "\n",
    "class Animal(Organism):\n",
    "     \n",
    "    def eat(self):\n",
    "        print(\"This animal is eating\")\n",
    "\n",
    "class Dog(Animal):\n",
    "    def bark(self):\n",
    "        print(\"this dog is barking\")\n",
    "\n",
    "\n",
    "dog  = Dog()\n"
   ]
  },
  {
   "cell_type": "markdown",
   "metadata": {},
   "source": [
    "# Multiple Inhertiance\n"
   ]
  },
  {
   "cell_type": "code",
   "execution_count": null,
   "metadata": {},
   "outputs": [],
   "source": [
    "class Prey:\n",
    "    def flee(self):\n",
    "        print(\"This animal flees\")\n",
    "\n",
    "class Predator:\n",
    "    def hunt(self):\n",
    "        print(\"This animal is hunting\")\n",
    "\n",
    "\n",
    "class Rabbit(Prey):\n",
    "    pass\n",
    "\n",
    "class Hawk(Predator):\n",
    "    pass\n",
    "\n",
    "class Fish(Prey,Predator):\n",
    "    pass\n",
    "\n",
    "rabbit = Rabbit()\n",
    "hawk = Hawk()\n",
    "fish = Fish()\n",
    "\n"
   ]
  },
  {
   "cell_type": "markdown",
   "metadata": {},
   "source": [
    "# Method Overriding"
   ]
  },
  {
   "cell_type": "code",
   "execution_count": 39,
   "metadata": {},
   "outputs": [
    {
     "name": "stdout",
     "output_type": "stream",
     "text": [
      "This rabbit is eating a carrot\n"
     ]
    }
   ],
   "source": [
    "class Animal: \n",
    "\n",
    "   \n",
    "    def eat(self):\n",
    "        print(\"this animal is eating\")\n",
    "\n",
    "   \n",
    "\n",
    "\n",
    "class Rabbit(Animal):\n",
    "\n",
    "    def eat(self):\n",
    "        print(\"This rabbit is eating a carrot\")\n",
    "\n",
    "rabbit = Rabbit()\n",
    "rabbit.eat()"
   ]
  },
  {
   "cell_type": "markdown",
   "metadata": {},
   "source": [
    "# Method Chaining"
   ]
  },
  {
   "cell_type": "code",
   "execution_count": 45,
   "metadata": {},
   "outputs": [
    {
     "name": "stdout",
     "output_type": "stream",
     "text": [
      "You start the engine\n",
      "You drive the car\n",
      "You step on the brakes\n",
      "You turn off the engine\n"
     ]
    },
    {
     "data": {
      "text/plain": [
       "<__main__.Car at 0x17180b850>"
      ]
     },
     "execution_count": 45,
     "metadata": {},
     "output_type": "execute_result"
    }
   ],
   "source": [
    "class Car:\n",
    "\n",
    "    def turn_on(self):\n",
    "        print(\"You start the engine\")\n",
    "        return self\n",
    "\n",
    "    def drive(self):\n",
    "        print(\"You drive the car\")\n",
    "        return self\n",
    "\n",
    "    def brake(self):\n",
    "        print(\"You step on the brakes\")\n",
    "        return self\n",
    "\n",
    "    def turn_off(self):\n",
    "        print(\"You turn off the engine\")\n",
    "        return self\n",
    "\n",
    "car = Car()\n",
    "\n",
    "#car.turn_on()\n",
    "#car.drive()\n",
    "\n",
    "#car.turn_on().drive()\n",
    "\n",
    "#car.brake().turn_off()\n",
    "\n",
    "car.turn_on()\\\n",
    "    .drive()\\\n",
    "    .brake()\\\n",
    "    .turn_off()"
   ]
  },
  {
   "cell_type": "markdown",
   "metadata": {},
   "source": [
    "# Super Function"
   ]
  },
  {
   "cell_type": "code",
   "execution_count": 49,
   "metadata": {},
   "outputs": [
    {
     "name": "stdout",
     "output_type": "stream",
     "text": [
      "27\n",
      "9\n"
     ]
    }
   ],
   "source": [
    "class Rectangle:\n",
    "\n",
    "    def __init__(self,length,width):\n",
    "        self.length = length\n",
    "        self.width = width\n",
    "\n",
    "\n",
    "class Square(Rectangle):\n",
    "\n",
    "    def __init__(self,length,width):\n",
    "        super().__init__(length,width)\n",
    "\n",
    "    def area(self):\n",
    "        return self.width * self.width\n",
    "\n",
    "\n",
    "class Cube(Rectangle):\n",
    "\n",
    "    def __init__(self,length,width,height):\n",
    "        super().__init__(length,width)\n",
    "        self.height = height\n",
    "\n",
    "    def volume(self):\n",
    "        return self.height * self.width * self.height\n",
    "\n",
    "square = Square(3,3)\n",
    "cube = Cube(3,3,3)\n",
    "\n",
    "print(cube.volume())\n",
    "print(square.area())"
   ]
  },
  {
   "cell_type": "markdown",
   "metadata": {},
   "source": [
    "# Objects as Arguments"
   ]
  },
  {
   "cell_type": "code",
   "execution_count": 54,
   "metadata": {},
   "outputs": [
    {
     "name": "stdout",
     "output_type": "stream",
     "text": [
      "red\n",
      "blue\n",
      "white\n",
      "black\n"
     ]
    }
   ],
   "source": [
    "class Car:\n",
    "\n",
    "    color = None\n",
    "\n",
    "class Motorcycle:\n",
    "    color = None\n",
    "\n",
    "def change_color(car,color):\n",
    "    car.color = color\n",
    "\n",
    "car_1 = Car()\n",
    "car_2 = Car()\n",
    "car_3 = Car()\n",
    "\n",
    "bike_1 = Motorcycle()\n",
    "change_color(bike_1,\"black\")\n",
    "\n",
    "\n",
    "change_color(car_1,\"red\")\n",
    "change_color(car_2,\"blue\")\n",
    "change_color(car_3,\"white\")\n",
    "\n",
    "print(car_1.color)\n",
    "print(car_2.color)\n",
    "print(car_3.color)\n",
    "print(bike_1.color)"
   ]
  },
  {
   "cell_type": "markdown",
   "metadata": {},
   "source": [
    "# Duck Typing"
   ]
  },
  {
   "cell_type": "code",
   "execution_count": 56,
   "metadata": {},
   "outputs": [
    {
     "name": "stdout",
     "output_type": "stream",
     "text": [
      "this duck is walking\n",
      "this duck is quaking\n",
      "you caught\n",
      "this chicken is walking\n",
      "this chicken is clucking\n",
      "you caught\n"
     ]
    }
   ],
   "source": [
    "class Duck:\n",
    "    def walk(self):\n",
    "        print(\"this duck is walking\")\n",
    "\n",
    "    def talk(self):\n",
    "        print(\"this duck is quaking\")\n",
    "\n",
    "class Chicken:\n",
    "    def walk(self):\n",
    "        print(\"this chicken is walking\")\n",
    "\n",
    "    def talk(self):\n",
    "        print(\"this chicken is clucking\")\n",
    "\n",
    "class Person():\n",
    "\n",
    "    def catch(self,duck):\n",
    "        duck.walk()\n",
    "        duck.talk()\n",
    "        print(\"you caught\")\n",
    "\n",
    "duck = Duck()\n",
    "chicken = Chicken()\n",
    "person = Person()\n",
    "\n",
    "person.catch(duck)\n",
    "\n",
    "person.catch(chicken)"
   ]
  },
  {
   "cell_type": "markdown",
   "metadata": {},
   "source": [
    "# Walrus Operator\n"
   ]
  },
  {
   "cell_type": "code",
   "execution_count": 60,
   "metadata": {},
   "outputs": [
    {
     "name": "stdout",
     "output_type": "stream",
     "text": [
      "True\n"
     ]
    }
   ],
   "source": [
    "#happy = True\n",
    "#print(happy)\n",
    "\n",
    "\n",
    "print(happy := True)\n",
    "\n",
    "\n",
    "foods = list()\n",
    "\n",
    "# while True:\n",
    "#     food = input(\"what food do you like: \")\n",
    "#     if food == \"quit\":\n",
    "#         break\n",
    "#     food.append(food)\n",
    "\n",
    "while food := input(\"what food do you like? : \") != \"quit\":\n",
    "    foods.append(food)\n",
    "    "
   ]
  },
  {
   "cell_type": "markdown",
   "metadata": {},
   "source": [
    "# Function to variable"
   ]
  },
  {
   "cell_type": "markdown",
   "metadata": {},
   "source": [
    "sets memory of where function is stored to a variable so it can be used as a function"
   ]
  },
  {
   "cell_type": "code",
   "execution_count": 72,
   "metadata": {},
   "outputs": [
    {
     "name": "stdout",
     "output_type": "stream",
     "text": [
      "Hello\n",
      "Now im used as the print function\n"
     ]
    }
   ],
   "source": [
    "def hello():\n",
    "    print(\"Hello\")\n",
    "\n",
    "hi = hello\n",
    "hi()\n",
    "\n",
    "say = print\n",
    "say(\"Now im used as the print function\")"
   ]
  },
  {
   "cell_type": "markdown",
   "metadata": {},
   "source": [
    "# Higher Order Functions"
   ]
  },
  {
   "cell_type": "code",
   "execution_count": 76,
   "metadata": {},
   "outputs": [
    {
     "name": "stdout",
     "output_type": "stream",
     "text": [
      "hello\n",
      "HELLO\n"
     ]
    }
   ],
   "source": [
    "def loud(text):\n",
    "    return text.upper()\n",
    "\n",
    "def quiet(text):\n",
    "    return text.lower()\n",
    "\n",
    "def hello(func):\n",
    "    text = func(\"Hello\")\n",
    "    print(text)\n",
    "\n",
    "hello(quiet) # we pass in the quiet function into hello\n",
    "hello(loud)"
   ]
  },
  {
   "cell_type": "code",
   "execution_count": 78,
   "metadata": {},
   "outputs": [
    {
     "name": "stdout",
     "output_type": "stream",
     "text": [
      "5.0\n"
     ]
    }
   ],
   "source": [
    "def divisor(x):\n",
    "    def dividend(y):\n",
    "        return y/x\n",
    "    return dividend\n",
    "\n",
    "divide = divisor(2)\n",
    "print(divide(10))"
   ]
  },
  {
   "cell_type": "markdown",
   "metadata": {},
   "source": [
    "# Lambda"
   ]
  },
  {
   "cell_type": "code",
   "execution_count": 90,
   "metadata": {},
   "outputs": [
    {
     "name": "stdout",
     "output_type": "stream",
     "text": [
      "10\n",
      "12455\n",
      "angelo rosu\n",
      "True\n"
     ]
    }
   ],
   "source": [
    "# lambda parameters: expression\n",
    "\n",
    "def double(x):\n",
    "    return x*2\n",
    "\n",
    "double = lambda x:x*2\n",
    "print(double(5))\n",
    "\n",
    "multiply = lambda x,y:x*y\n",
    "print(multiply(53,235))\n",
    "\n",
    "\n",
    "full_name = lambda first_name,last_name: first_name +\" \"+ last_name\n",
    "print(full_name(\"angelo\",\"rosu\"))\n",
    "\n",
    "age_check = lambda x: True if x >17 else False\n",
    "print(age_check(18))"
   ]
  },
  {
   "cell_type": "markdown",
   "metadata": {},
   "source": [
    "# Sort"
   ]
  },
  {
   "cell_type": "code",
   "execution_count": 97,
   "metadata": {},
   "outputs": [
    {
     "name": "stdout",
     "output_type": "stream",
     "text": [
      "Mr. Krabs\n",
      "Patrick\n",
      "Sandy\n",
      "Spongebob\n",
      "Squidward\n"
     ]
    }
   ],
   "source": [
    "students = [\"Squidward\",\"Sandy\",\"Patrick\",\"Spongebob\",\"Mr. Krabs\"]\n",
    "\n",
    "#students.sort()\n",
    "sorted_students = sorted(students)\n",
    "\n",
    "\n",
    "for i in sorted_students:\n",
    "    print(i)\n",
    "\n",
    "\n"
   ]
  },
  {
   "cell_type": "code",
   "execution_count": 106,
   "metadata": {},
   "outputs": [
    {
     "name": "stdout",
     "output_type": "stream",
     "text": [
      "('Sandy', 'A', 33)\n",
      "('Patrcik', 'D', 766)\n",
      "('Squidward', 'F', 60)\n"
     ]
    }
   ],
   "source": [
    "students = [(\"Squidward\",\"F\",60),\n",
    "            (\"Sandy\",\"A\",33),\n",
    "            (\"Patrcik\",\"D\",766)]\n",
    "\n",
    "grade = lambda grades: grades[1]\n",
    "\n",
    "#students.sort(key=grade)\n",
    "\n",
    "sorted_students = sorted(students,key = grade)\n",
    "\n",
    "for i in sorted_students:\n",
    "    print(i)"
   ]
  },
  {
   "cell_type": "markdown",
   "metadata": {},
   "source": [
    "# Map"
   ]
  },
  {
   "cell_type": "code",
   "execution_count": 110,
   "metadata": {},
   "outputs": [
    {
     "name": "stdout",
     "output_type": "stream",
     "text": [
      "('shirt', 16.4)\n",
      "('pants', 12.299999999999999)\n",
      "('jacket', 41.0)\n",
      "('socks', 8.2)\n",
      "('shirt', 24.390243902439025)\n",
      "('pants', 18.29268292682927)\n",
      "('jacket', 60.97560975609756)\n",
      "('socks', 12.195121951219512)\n"
     ]
    }
   ],
   "source": [
    "store = [(\"shirt\",20),\n",
    "          (\"pants\",15),\n",
    "          (\"jacket\",50),\n",
    "          (\"socks\",10)]\n",
    "\n",
    "to_euros = lambda data : (data[0],data[1]*0.82)\n",
    "to_dollars = lambda data : (data[0],data[1]/0.82)\n",
    "store_euros = list(map(to_euros,store))\n",
    "store_dollars = list(map(to_dollars,store))\n",
    "for i in store_euros:\n",
    "    print(i)\n",
    "\n",
    "for j in store_dollars:\n",
    "    print(j)"
   ]
  },
  {
   "cell_type": "markdown",
   "metadata": {},
   "source": [
    "# Filter"
   ]
  },
  {
   "cell_type": "code",
   "execution_count": 112,
   "metadata": {},
   "outputs": [
    {
     "name": "stdout",
     "output_type": "stream",
     "text": [
      "('Rachael', 19)\n",
      "('Monica', 18)\n",
      "('Chandler', 21)\n",
      "('Ross', 20)\n"
     ]
    }
   ],
   "source": [
    "friends = [(\"Rachael\",19),\n",
    "           (\"Monica\",18),\n",
    "           (\"Phoebe\",17),\n",
    "           (\"Joey\",16),\n",
    "           (\"Chandler\",21),\n",
    "           (\"Ross\",20)]\n",
    "\n",
    "age = lambda data: data[1] > 17\n",
    "\n",
    "drinking_buddies = list(filter(age,friends))\n",
    "\n",
    "for x in drinking_buddies:\n",
    "    print(x)\n",
    "\n",
    "\n",
    "\n"
   ]
  },
  {
   "cell_type": "markdown",
   "metadata": {},
   "source": []
  },
  {
   "cell_type": "markdown",
   "metadata": {},
   "source": []
  }
 ],
 "metadata": {
  "kernelspec": {
   "display_name": "Python 3",
   "language": "python",
   "name": "python3"
  },
  "language_info": {
   "codemirror_mode": {
    "name": "ipython",
    "version": 3
   },
   "file_extension": ".py",
   "mimetype": "text/x-python",
   "name": "python",
   "nbconvert_exporter": "python",
   "pygments_lexer": "ipython3",
   "version": "3.11.6"
  }
 },
 "nbformat": 4,
 "nbformat_minor": 2
}
